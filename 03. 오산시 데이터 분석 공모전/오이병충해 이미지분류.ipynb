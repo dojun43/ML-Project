{
 "cells": [
  {
   "cell_type": "code",
   "execution_count": 1,
   "metadata": {},
   "outputs": [],
   "source": [
    "from glob import glob\n",
    "from PIL import Image\n",
    "import numpy as np\n",
    "import pandas as pd\n",
    "import matplotlib.pyplot as plt"
   ]
  },
  {
   "cell_type": "markdown",
   "metadata": {},
   "source": [
    "## 이미지 load"
   ]
  },
  {
   "cell_type": "code",
   "execution_count": 2,
   "metadata": {},
   "outputs": [],
   "source": [
    "image_datas = glob('C:\\\\Users\\\\admin\\\\PycharmProjects\\\\오산시\\\\흰가루병\\\\*.png')"
   ]
  },
  {
   "cell_type": "code",
   "execution_count": 3,
   "metadata": {},
   "outputs": [],
   "source": [
    "whilte_X = []\n",
    "for imagename in image_datas:\n",
    "  image = Image.open(imagename)\n",
    "  image = image.resize((128,128))\n",
    "  image = np.array(image)\n",
    "  whilte_X.append(image)"
   ]
  },
  {
   "cell_type": "code",
   "execution_count": 4,
   "metadata": {},
   "outputs": [],
   "source": [
    "image_datas = glob('C:\\\\Users\\\\admin\\\\PycharmProjects\\\\오산시\\\\모자이크병\\\\*.png')"
   ]
  },
  {
   "cell_type": "code",
   "execution_count": 5,
   "metadata": {},
   "outputs": [],
   "source": [
    "mosaic_X = []\n",
    "for imagename in image_datas:\n",
    "  image = Image.open(imagename)\n",
    "  image = image.resize((128,128))\n",
    "  image = np.array(image)\n",
    "  mosaic_X.append(image)"
   ]
  },
  {
   "cell_type": "markdown",
   "metadata": {},
   "source": [
    "## 전처리"
   ]
  },
  {
   "cell_type": "code",
   "execution_count": 22,
   "metadata": {},
   "outputs": [],
   "source": [
    "whilte_df = pd.read_csv('C:\\\\Users\\\\admin\\\\PycharmProjects\\\\오산시\\\\흰가루병\\\\흰가루병 데이터.csv')\n",
    "mosaic_df = pd.read_csv('C:\\\\Users\\\\admin\\\\PycharmProjects\\\\오산시\\\\모자이크병\\\\/모자이크병 데이터.csv')"
   ]
  },
  {
   "cell_type": "code",
   "execution_count": 23,
   "metadata": {},
   "outputs": [],
   "source": [
    "whilte_df = whilte_df.drop([1685])\n",
    "mosaic_df = mosaic_df.drop([1997])"
   ]
  },
  {
   "cell_type": "code",
   "execution_count": 24,
   "metadata": {},
   "outputs": [
    {
     "name": "stdout",
     "output_type": "stream",
     "text": [
      "흰가루병 이미지 데이터 개수: 907\n",
      "흰가루병 + 다른병 이미지 데이터 개수: 2774\n"
     ]
    }
   ],
   "source": [
    "white = len(whilte_df[whilte_df['실제판독명(Act_Diag)'] == '흰가루병'])\n",
    "white_alpha = len(whilte_df[whilte_df['실제판독명(Act_Diag)'] != '흰가루병'])\n",
    "print('흰가루병 이미지 데이터 개수:', white)\n",
    "print('흰가루병 + 다른병 이미지 데이터 개수:', white_alpha)"
   ]
  },
  {
   "cell_type": "code",
   "execution_count": 25,
   "metadata": {},
   "outputs": [
    {
     "data": {
      "text/plain": [
       "67"
      ]
     },
     "execution_count": 25,
     "metadata": {},
     "output_type": "execute_result"
    }
   ],
   "source": [
    "len(whilte_df['실제판독명(Act_Diag)'].unique())"
   ]
  },
  {
   "cell_type": "code",
   "execution_count": 26,
   "metadata": {},
   "outputs": [
    {
     "name": "stdout",
     "output_type": "stream",
     "text": [
      "모자이크병 이미지 데이터 개수: 509\n",
      "모자이크병 + 다른병 이미지 데이터 개수: 2017\n"
     ]
    }
   ],
   "source": [
    "mosaic = len(mosaic_df[mosaic_df['실제판독명(Act_Diag)'] == '모자이크병'])\n",
    "mosaic_alpha = len(mosaic_df[mosaic_df['실제판독명(Act_Diag)'] != '모자이크병'])\n",
    "print('모자이크병 이미지 데이터 개수:', mosaic)\n",
    "print('모자이크병 + 다른병 이미지 데이터 개수:', mosaic_alpha)"
   ]
  },
  {
   "cell_type": "code",
   "execution_count": 27,
   "metadata": {},
   "outputs": [
    {
     "data": {
      "text/plain": [
       "68"
      ]
     },
     "execution_count": 27,
     "metadata": {},
     "output_type": "execute_result"
    }
   ],
   "source": [
    "len(mosaic_df['실제판독명(Act_Diag)'].unique())"
   ]
  },
  {
   "cell_type": "code",
   "execution_count": 28,
   "metadata": {},
   "outputs": [
    {
     "data": {
      "text/html": [
       "<div>\n",
       "<style scoped>\n",
       "    .dataframe tbody tr th:only-of-type {\n",
       "        vertical-align: middle;\n",
       "    }\n",
       "\n",
       "    .dataframe tbody tr th {\n",
       "        vertical-align: top;\n",
       "    }\n",
       "\n",
       "    .dataframe thead th {\n",
       "        text-align: right;\n",
       "    }\n",
       "</style>\n",
       "<table border=\"1\" class=\"dataframe\">\n",
       "  <thead>\n",
       "    <tr style=\"text-align: right;\">\n",
       "      <th></th>\n",
       "      <th>파일명(File_Name)</th>\n",
       "      <th>파일저장경로(Directory)</th>\n",
       "      <th>실제판독명(Act_Diag)</th>\n",
       "    </tr>\n",
       "  </thead>\n",
       "  <tbody>\n",
       "    <tr>\n",
       "      <td>0</td>\n",
       "      <td>a1_26(1).jpg</td>\n",
       "      <td>https://www.bigdatahub.go.kr/images/disease/</td>\n",
       "      <td>모자이크병+그을음병</td>\n",
       "    </tr>\n",
       "    <tr>\n",
       "      <td>1</td>\n",
       "      <td>a1_26(2).jpg</td>\n",
       "      <td>https://www.bigdatahub.go.kr/images/disease/</td>\n",
       "      <td>모자이크병+그을음병</td>\n",
       "    </tr>\n",
       "    <tr>\n",
       "      <td>2</td>\n",
       "      <td>a1_37(1).jpg</td>\n",
       "      <td>https://www.bigdatahub.go.kr/images/disease/</td>\n",
       "      <td>흰가루병+모자이크병</td>\n",
       "    </tr>\n",
       "    <tr>\n",
       "      <td>3</td>\n",
       "      <td>a1_37(2).jpg</td>\n",
       "      <td>https://www.bigdatahub.go.kr/images/disease/</td>\n",
       "      <td>흰가루병+모자이크병</td>\n",
       "    </tr>\n",
       "    <tr>\n",
       "      <td>4</td>\n",
       "      <td>a1_40(1).jpg</td>\n",
       "      <td>https://www.bigdatahub.go.kr/images/disease/</td>\n",
       "      <td>노균병+모자이크병+흰가루병</td>\n",
       "    </tr>\n",
       "    <tr>\n",
       "      <td>...</td>\n",
       "      <td>...</td>\n",
       "      <td>...</td>\n",
       "      <td>...</td>\n",
       "    </tr>\n",
       "    <tr>\n",
       "      <td>2522</td>\n",
       "      <td>k1_100(5).jpg</td>\n",
       "      <td>https://www.bigdatahub.go.kr/images/disease/</td>\n",
       "      <td>모자이크병</td>\n",
       "    </tr>\n",
       "    <tr>\n",
       "      <td>2523</td>\n",
       "      <td>k1_100(6).jpg</td>\n",
       "      <td>https://www.bigdatahub.go.kr/images/disease/</td>\n",
       "      <td>모자이크병</td>\n",
       "    </tr>\n",
       "    <tr>\n",
       "      <td>2524</td>\n",
       "      <td>k1_100(7).jpg</td>\n",
       "      <td>https://www.bigdatahub.go.kr/images/disease/</td>\n",
       "      <td>모자이크병</td>\n",
       "    </tr>\n",
       "    <tr>\n",
       "      <td>2525</td>\n",
       "      <td>k1_100(8).jpg</td>\n",
       "      <td>https://www.bigdatahub.go.kr/images/disease/</td>\n",
       "      <td>모자이크병</td>\n",
       "    </tr>\n",
       "    <tr>\n",
       "      <td>2526</td>\n",
       "      <td>k1_100(9).jpg</td>\n",
       "      <td>https://www.bigdatahub.go.kr/images/disease/</td>\n",
       "      <td>모자이크병</td>\n",
       "    </tr>\n",
       "  </tbody>\n",
       "</table>\n",
       "<p>2526 rows × 3 columns</p>\n",
       "</div>"
      ],
      "text/plain": [
       "     파일명(File_Name)                             파일저장경로(Directory)  \\\n",
       "0      a1_26(1).jpg  https://www.bigdatahub.go.kr/images/disease/   \n",
       "1      a1_26(2).jpg  https://www.bigdatahub.go.kr/images/disease/   \n",
       "2      a1_37(1).jpg  https://www.bigdatahub.go.kr/images/disease/   \n",
       "3      a1_37(2).jpg  https://www.bigdatahub.go.kr/images/disease/   \n",
       "4      a1_40(1).jpg  https://www.bigdatahub.go.kr/images/disease/   \n",
       "...             ...                                           ...   \n",
       "2522  k1_100(5).jpg  https://www.bigdatahub.go.kr/images/disease/   \n",
       "2523  k1_100(6).jpg  https://www.bigdatahub.go.kr/images/disease/   \n",
       "2524  k1_100(7).jpg  https://www.bigdatahub.go.kr/images/disease/   \n",
       "2525  k1_100(8).jpg  https://www.bigdatahub.go.kr/images/disease/   \n",
       "2526  k1_100(9).jpg  https://www.bigdatahub.go.kr/images/disease/   \n",
       "\n",
       "     실제판독명(Act_Diag)  \n",
       "0         모자이크병+그을음병  \n",
       "1         모자이크병+그을음병  \n",
       "2         흰가루병+모자이크병  \n",
       "3         흰가루병+모자이크병  \n",
       "4     노균병+모자이크병+흰가루병  \n",
       "...              ...  \n",
       "2522           모자이크병  \n",
       "2523           모자이크병  \n",
       "2524           모자이크병  \n",
       "2525           모자이크병  \n",
       "2526           모자이크병  \n",
       "\n",
       "[2526 rows x 3 columns]"
      ]
     },
     "execution_count": 28,
     "metadata": {},
     "output_type": "execute_result"
    }
   ],
   "source": [
    "mosaic_df[['파일명(File_Name)', '파일저장경로(Directory)', '실제판독명(Act_Diag)']]"
   ]
  },
  {
   "cell_type": "code",
   "execution_count": 40,
   "metadata": {},
   "outputs": [],
   "source": [
    "white_sum = 0 \n",
    "mosaic_sum = 0 \n",
    "both_sum = 0 \n",
    "\n",
    "Y = []\n",
    "for i in whilte_df['실제판독명(Act_Diag)']:\n",
    "    if '흰가루병' in i and '모자이크병' in i:\n",
    "        Y.append([0,0,1])\n",
    "        both_sum += 1 \n",
    "    elif '흰가루병' in i:\n",
    "        Y.append([1,0,0])\n",
    "        white_sum += 1 "
   ]
  },
  {
   "cell_type": "code",
   "execution_count": 41,
   "metadata": {},
   "outputs": [],
   "source": [
    "for i in mosaic_df['실제판독명(Act_Diag)']:\n",
    "    if '흰가루병' in i and '모자이크병' in i:\n",
    "        Y.append([0,0,1])\n",
    "        both_sum += 1 \n",
    "    elif '모자이크병' in i:\n",
    "        Y.append([0,1,0])\n",
    "        mosaic_sum += 1 \n",
    "    elif '모자이크' in i:\n",
    "        Y.append([0,1,0])\n",
    "        mosaic_sum += 1 "
   ]
  },
  {
   "cell_type": "code",
   "execution_count": 42,
   "metadata": {},
   "outputs": [
    {
     "name": "stdout",
     "output_type": "stream",
     "text": [
      "흰가루: 3096 모자이크: 1941 모자이크+흰가루: 1170\n"
     ]
    }
   ],
   "source": [
    "print('흰가루:', white_sum,'모자이크:',mosaic_sum, '모자이크+흰가루:', both_sum)"
   ]
  },
  {
   "cell_type": "code",
   "execution_count": 35,
   "metadata": {},
   "outputs": [
    {
     "ename": "NameError",
     "evalue": "name 'whilte_X' is not defined",
     "output_type": "error",
     "traceback": [
      "\u001b[1;31m---------------------------------------------------------------------------\u001b[0m",
      "\u001b[1;31mNameError\u001b[0m                                 Traceback (most recent call last)",
      "\u001b[1;32m<ipython-input-35-03d9ced9f35b>\u001b[0m in \u001b[0;36m<module>\u001b[1;34m\u001b[0m\n\u001b[1;32m----> 1\u001b[1;33m \u001b[0mwhilte_X\u001b[0m \u001b[1;33m=\u001b[0m \u001b[0mnp\u001b[0m\u001b[1;33m.\u001b[0m\u001b[0marray\u001b[0m\u001b[1;33m(\u001b[0m\u001b[0mwhilte_X\u001b[0m\u001b[1;33m)\u001b[0m\u001b[1;33m\u001b[0m\u001b[1;33m\u001b[0m\u001b[0m\n\u001b[0m\u001b[0;32m      2\u001b[0m \u001b[0mmosaic_X\u001b[0m \u001b[1;33m=\u001b[0m \u001b[0mnp\u001b[0m\u001b[1;33m.\u001b[0m\u001b[0marray\u001b[0m\u001b[1;33m(\u001b[0m\u001b[0mmosaic_X\u001b[0m\u001b[1;33m)\u001b[0m\u001b[1;33m\u001b[0m\u001b[1;33m\u001b[0m\u001b[0m\n\u001b[0;32m      3\u001b[0m \u001b[0mX\u001b[0m \u001b[1;33m=\u001b[0m \u001b[0mnp\u001b[0m\u001b[1;33m.\u001b[0m\u001b[0mconcatenate\u001b[0m\u001b[1;33m(\u001b[0m\u001b[1;33m(\u001b[0m\u001b[0mwhilte_X\u001b[0m\u001b[1;33m,\u001b[0m \u001b[0mmosaic_X\u001b[0m\u001b[1;33m)\u001b[0m\u001b[1;33m,\u001b[0m \u001b[0maxis\u001b[0m\u001b[1;33m=\u001b[0m\u001b[1;36m0\u001b[0m\u001b[1;33m)\u001b[0m\u001b[1;33m\u001b[0m\u001b[1;33m\u001b[0m\u001b[0m\n\u001b[0;32m      4\u001b[0m \u001b[0mY\u001b[0m \u001b[1;33m=\u001b[0m \u001b[0mnp\u001b[0m\u001b[1;33m.\u001b[0m\u001b[0marray\u001b[0m\u001b[1;33m(\u001b[0m\u001b[0mY\u001b[0m\u001b[1;33m)\u001b[0m\u001b[1;33m\u001b[0m\u001b[1;33m\u001b[0m\u001b[0m\n\u001b[0;32m      5\u001b[0m \u001b[1;33m\u001b[0m\u001b[0m\n",
      "\u001b[1;31mNameError\u001b[0m: name 'whilte_X' is not defined"
     ]
    }
   ],
   "source": [
    "whilte_X = np.array(whilte_X)\n",
    "mosaic_X = np.array(mosaic_X)\n",
    "X = np.concatenate((whilte_X, mosaic_X), axis=0)\n",
    "Y = np.array(Y)\n",
    "\n",
    "#정규화\n",
    "X = X / 255.0"
   ]
  },
  {
   "cell_type": "code",
   "execution_count": 36,
   "metadata": {},
   "outputs": [
    {
     "ename": "NameError",
     "evalue": "name 'X' is not defined",
     "output_type": "error",
     "traceback": [
      "\u001b[1;31m---------------------------------------------------------------------------\u001b[0m",
      "\u001b[1;31mNameError\u001b[0m                                 Traceback (most recent call last)",
      "\u001b[1;32m<ipython-input-36-91d0264190b6>\u001b[0m in \u001b[0;36m<module>\u001b[1;34m\u001b[0m\n\u001b[1;32m----> 1\u001b[1;33m \u001b[0mprint\u001b[0m\u001b[1;33m(\u001b[0m\u001b[1;34m'X shape:'\u001b[0m\u001b[1;33m,\u001b[0m\u001b[0mnp\u001b[0m\u001b[1;33m.\u001b[0m\u001b[0mshape\u001b[0m\u001b[1;33m(\u001b[0m\u001b[0mX\u001b[0m\u001b[1;33m)\u001b[0m\u001b[1;33m)\u001b[0m\u001b[1;33m\u001b[0m\u001b[1;33m\u001b[0m\u001b[0m\n\u001b[0m\u001b[0;32m      2\u001b[0m \u001b[0mprint\u001b[0m\u001b[1;33m(\u001b[0m\u001b[1;34m'Y shape:'\u001b[0m\u001b[1;33m,\u001b[0m\u001b[0mnp\u001b[0m\u001b[1;33m.\u001b[0m\u001b[0mshape\u001b[0m\u001b[1;33m(\u001b[0m\u001b[0mY\u001b[0m\u001b[1;33m)\u001b[0m\u001b[1;33m)\u001b[0m\u001b[1;33m\u001b[0m\u001b[1;33m\u001b[0m\u001b[0m\n",
      "\u001b[1;31mNameError\u001b[0m: name 'X' is not defined"
     ]
    }
   ],
   "source": [
    "print('X shape:',np.shape(X))\n",
    "print('Y shape:',np.shape(Y))"
   ]
  },
  {
   "cell_type": "markdown",
   "metadata": {},
   "source": [
    "## Model"
   ]
  },
  {
   "cell_type": "code",
   "execution_count": 40,
   "metadata": {},
   "outputs": [],
   "source": [
    "from sklearn.model_selection import train_test_split\n",
    "from tensorflow.keras.utils import to_categorical\n",
    "from keras.models import Sequential\n",
    "from keras.layers import Dropout, Activation, Dense\n",
    "from keras.layers import Flatten, Convolution2D, MaxPooling2D, AveragePooling2D\n",
    "from keras.models import load_model"
   ]
  },
  {
   "cell_type": "code",
   "execution_count": 41,
   "metadata": {},
   "outputs": [],
   "source": [
    "# train set, test set 분할 \n",
    "X_train, X_test, Y_train, Y_test = train_test_split(X, Y, shuffle=True, random_state=30)"
   ]
  },
  {
   "cell_type": "code",
   "execution_count": 42,
   "metadata": {},
   "outputs": [
    {
     "name": "stdout",
     "output_type": "stream",
     "text": [
      "x_train: (4655, 128, 128, 3) y_train: (4655, 3)\n",
      "x_test: (1552, 128, 128, 3) y_test: (1552, 3)\n"
     ]
    }
   ],
   "source": [
    "# train set, test set 분할 후 shape \n",
    "x_train_shape = np.shape(X_train)\n",
    "y_train_shape = np.shape(Y_train)\n",
    "x_test_shape = np.shape(X_test)\n",
    "y_test_shape = np.shape(Y_test)\n",
    "\n",
    "print('x_train:',x_train_shape, 'y_train:',y_train_shape)\n",
    "print('x_test:',x_test_shape, 'y_test:',y_test_shape)"
   ]
  },
  {
   "cell_type": "code",
   "execution_count": 46,
   "metadata": {},
   "outputs": [
    {
     "name": "stdout",
     "output_type": "stream",
     "text": [
      "Epoch 1/50\n",
      "146/146 [==============================] - 30s 206ms/step - loss: 0.5859 - accuracy: 0.5249 - val_loss: 0.5503 - val_accuracy: 0.6340\n",
      "Epoch 2/50\n",
      "146/146 [==============================] - 29s 200ms/step - loss: 0.5241 - accuracy: 0.6006 - val_loss: 0.5503 - val_accuracy: 0.6140\n",
      "Epoch 3/50\n",
      "146/146 [==============================] - 29s 197ms/step - loss: 0.5171 - accuracy: 0.6095 - val_loss: 0.4932 - val_accuracy: 0.6398\n",
      "Epoch 4/50\n",
      "146/146 [==============================] - 29s 198ms/step - loss: 0.4822 - accuracy: 0.6336 - val_loss: 0.5043 - val_accuracy: 0.6430\n",
      "Epoch 5/50\n",
      "146/146 [==============================] - 29s 202ms/step - loss: 0.4672 - accuracy: 0.6517 - val_loss: 0.4750 - val_accuracy: 0.6540\n",
      "Epoch 6/50\n",
      "146/146 [==============================] - 29s 200ms/step - loss: 0.4626 - accuracy: 0.6580 - val_loss: 0.4459 - val_accuracy: 0.6759\n",
      "Epoch 7/50\n",
      "146/146 [==============================] - 29s 197ms/step - loss: 0.4436 - accuracy: 0.6753 - val_loss: 0.4393 - val_accuracy: 0.6856\n",
      "Epoch 8/50\n",
      "146/146 [==============================] - 31s 209ms/step - loss: 0.4268 - accuracy: 0.6964 - val_loss: 0.4288 - val_accuracy: 0.6875\n",
      "Epoch 9/50\n",
      "146/146 [==============================] - 31s 214ms/step - loss: 0.4074 - accuracy: 0.7071 - val_loss: 0.4310 - val_accuracy: 0.7146\n",
      "Epoch 10/50\n",
      "146/146 [==============================] - 31s 209ms/step - loss: 0.3944 - accuracy: 0.7180 - val_loss: 0.4061 - val_accuracy: 0.7133\n",
      "Epoch 11/50\n",
      "146/146 [==============================] - 29s 195ms/step - loss: 0.3826 - accuracy: 0.7266 - val_loss: 0.3794 - val_accuracy: 0.7455\n",
      "Epoch 12/50\n",
      "146/146 [==============================] - 28s 194ms/step - loss: 0.3467 - accuracy: 0.7636 - val_loss: 0.3805 - val_accuracy: 0.7313\n",
      "Epoch 13/50\n",
      "146/146 [==============================] - 28s 194ms/step - loss: 0.3217 - accuracy: 0.7853 - val_loss: 0.3768 - val_accuracy: 0.7494\n",
      "Epoch 14/50\n",
      "146/146 [==============================] - 28s 194ms/step - loss: 0.2847 - accuracy: 0.8221 - val_loss: 0.3765 - val_accuracy: 0.7384\n",
      "Epoch 15/50\n",
      "146/146 [==============================] - 28s 194ms/step - loss: 0.2611 - accuracy: 0.8335 - val_loss: 0.3491 - val_accuracy: 0.7738\n",
      "Epoch 16/50\n",
      "146/146 [==============================] - 28s 194ms/step - loss: 0.2410 - accuracy: 0.8554 - val_loss: 0.3732 - val_accuracy: 0.7558\n",
      "Epoch 17/50\n",
      "146/146 [==============================] - 28s 194ms/step - loss: 0.2278 - accuracy: 0.8671 - val_loss: 0.3345 - val_accuracy: 0.7899\n",
      "Epoch 18/50\n",
      "146/146 [==============================] - 28s 194ms/step - loss: 0.2094 - accuracy: 0.8791 - val_loss: 0.3274 - val_accuracy: 0.8067\n",
      "Epoch 19/50\n",
      "146/146 [==============================] - 29s 195ms/step - loss: 0.1640 - accuracy: 0.9046 - val_loss: 0.3268 - val_accuracy: 0.8119\n",
      "Epoch 20/50\n",
      "146/146 [==============================] - 28s 195ms/step - loss: 0.1718 - accuracy: 0.8989 - val_loss: 0.3383 - val_accuracy: 0.8022\n",
      "Epoch 21/50\n",
      "146/146 [==============================] - 29s 200ms/step - loss: 0.1539 - accuracy: 0.9161 - val_loss: 0.3426 - val_accuracy: 0.8054\n",
      "Epoch 22/50\n",
      "146/146 [==============================] - 30s 208ms/step - loss: 0.1134 - accuracy: 0.9444 - val_loss: 0.3304 - val_accuracy: 0.8099\n",
      "Epoch 23/50\n",
      "146/146 [==============================] - 29s 196ms/step - loss: 0.1059 - accuracy: 0.9502 - val_loss: 0.3378 - val_accuracy: 0.8241\n",
      "Epoch 24/50\n",
      "146/146 [==============================] - 28s 193ms/step - loss: 0.0832 - accuracy: 0.9632 - val_loss: 0.3411 - val_accuracy: 0.8183\n",
      "Epoch 25/50\n",
      "146/146 [==============================] - 28s 194ms/step - loss: 0.0779 - accuracy: 0.9627 - val_loss: 0.3547 - val_accuracy: 0.8131\n",
      "Epoch 26/50\n",
      "146/146 [==============================] - 28s 194ms/step - loss: 0.0705 - accuracy: 0.9679 - val_loss: 0.3522 - val_accuracy: 0.8357\n",
      "Epoch 27/50\n",
      "146/146 [==============================] - 28s 194ms/step - loss: 0.0635 - accuracy: 0.9730 - val_loss: 0.3674 - val_accuracy: 0.8073\n",
      "Epoch 28/50\n",
      "146/146 [==============================] - 28s 193ms/step - loss: 0.0553 - accuracy: 0.9810 - val_loss: 0.4084 - val_accuracy: 0.8119\n",
      "Epoch 29/50\n",
      "146/146 [==============================] - 28s 194ms/step - loss: 0.0537 - accuracy: 0.9785 - val_loss: 0.4036 - val_accuracy: 0.8144\n",
      "Epoch 30/50\n",
      "146/146 [==============================] - 28s 194ms/step - loss: 0.0548 - accuracy: 0.9760 - val_loss: 0.4180 - val_accuracy: 0.8099\n",
      "Epoch 31/50\n",
      "146/146 [==============================] - 28s 193ms/step - loss: 0.0457 - accuracy: 0.9817 - val_loss: 0.4316 - val_accuracy: 0.8099\n",
      "Epoch 32/50\n",
      "146/146 [==============================] - 28s 195ms/step - loss: 0.0370 - accuracy: 0.9845 - val_loss: 0.4671 - val_accuracy: 0.8048\n",
      "Epoch 33/50\n",
      "146/146 [==============================] - 29s 197ms/step - loss: 0.0433 - accuracy: 0.9829 - val_loss: 0.4959 - val_accuracy: 0.7977\n",
      "Epoch 34/50\n",
      "146/146 [==============================] - 30s 208ms/step - loss: 0.0593 - accuracy: 0.9729 - val_loss: 0.4309 - val_accuracy: 0.8015\n",
      "Epoch 35/50\n",
      "146/146 [==============================] - 29s 197ms/step - loss: 0.0376 - accuracy: 0.9841 - val_loss: 0.5193 - val_accuracy: 0.8080\n",
      "Epoch 36/50\n",
      "146/146 [==============================] - 30s 206ms/step - loss: 0.0539 - accuracy: 0.9767 - val_loss: 0.4239 - val_accuracy: 0.8241\n",
      "Epoch 37/50\n",
      "146/146 [==============================] - 30s 204ms/step - loss: 0.0204 - accuracy: 0.9942 - val_loss: 0.4501 - val_accuracy: 0.8254\n",
      "Epoch 38/50\n",
      "146/146 [==============================] - 29s 201ms/step - loss: 0.0343 - accuracy: 0.9892 - val_loss: 0.4663 - val_accuracy: 0.8164\n",
      "Epoch 39/50\n",
      "146/146 [==============================] - 29s 198ms/step - loss: 0.0223 - accuracy: 0.9918 - val_loss: 0.4439 - val_accuracy: 0.8112\n",
      "Epoch 40/50\n",
      "146/146 [==============================] - 29s 201ms/step - loss: 0.0259 - accuracy: 0.9894 - val_loss: 0.4980 - val_accuracy: 0.8157\n",
      "Epoch 41/50\n",
      "146/146 [==============================] - 29s 201ms/step - loss: 0.0331 - accuracy: 0.9870 - val_loss: 0.5068 - val_accuracy: 0.8144\n",
      "Epoch 42/50\n",
      "146/146 [==============================] - 29s 199ms/step - loss: 0.0350 - accuracy: 0.9862 - val_loss: 0.4547 - val_accuracy: 0.8183\n",
      "Epoch 43/50\n",
      "146/146 [==============================] - 29s 201ms/step - loss: 0.0238 - accuracy: 0.9894 - val_loss: 0.4988 - val_accuracy: 0.8144\n",
      "Epoch 44/50\n",
      "146/146 [==============================] - 30s 204ms/step - loss: 0.0251 - accuracy: 0.9909 - val_loss: 0.4984 - val_accuracy: 0.8106\n",
      "Epoch 45/50\n",
      "146/146 [==============================] - 31s 211ms/step - loss: 0.0219 - accuracy: 0.9910 - val_loss: 0.5327 - val_accuracy: 0.8222\n",
      "Epoch 46/50\n",
      "146/146 [==============================] - 29s 201ms/step - loss: 0.0246 - accuracy: 0.9893 - val_loss: 0.5127 - val_accuracy: 0.8222\n",
      "Epoch 47/50\n",
      "146/146 [==============================] - 30s 202ms/step - loss: 0.0126 - accuracy: 0.9959 - val_loss: 0.5156 - val_accuracy: 0.8170\n",
      "Epoch 48/50\n",
      "146/146 [==============================] - 30s 207ms/step - loss: 0.0121 - accuracy: 0.9952 - val_loss: 0.4973 - val_accuracy: 0.8164\n",
      "Epoch 49/50\n",
      "146/146 [==============================] - 30s 203ms/step - loss: 0.0138 - accuracy: 0.9942 - val_loss: 0.5206 - val_accuracy: 0.8170\n",
      "Epoch 50/50\n",
      "146/146 [==============================] - 30s 205ms/step - loss: 0.0291 - accuracy: 0.9890 - val_loss: 0.5291 - val_accuracy: 0.8209\n"
     ]
    }
   ],
   "source": [
    "model = Sequential()\n",
    "model.add(Convolution2D(filters=32, kernel_size=(3,3), activation='relu', padding= 'SAME', \n",
    "                        input_shape=(128,128,3)))\n",
    "model.add(MaxPooling2D(pool_size=(3,3), padding='SAME'))\n",
    "model.add(Dropout(0.2))\n",
    "model.add(Convolution2D(filters=64, kernel_size=(3,3), activation='relu', padding= 'SAME'))\n",
    "model.add(MaxPooling2D(pool_size=(3,3), padding='SAME'))\n",
    "model.add(Dropout(0.2))\n",
    "model.add(Convolution2D(filters=128, kernel_size=(3,3), activation='relu', padding= 'SAME'))\n",
    "model.add(MaxPooling2D(pool_size=(3,3), padding='SAME'))\n",
    "model.add(Dropout(0.2))\n",
    "model.add(Flatten())\n",
    "model.add(Dense(256, activation = 'relu'))\n",
    "model.add(Dense(3, activation = 'softmax'))\n",
    "  \n",
    "model.compile(loss='binary_crossentropy',optimizer='Adam',metrics=['accuracy'])\n",
    "history = model.fit(X_train, Y_train, batch_size=32, epochs=50, validation_data=(X_test, Y_test))"
   ]
  },
  {
   "cell_type": "code",
   "execution_count": 47,
   "metadata": {},
   "outputs": [
    {
     "name": "stdout",
     "output_type": "stream",
     "text": [
      "49/49 [==============================] - 2s 40ms/step - loss: 0.5291 - accuracy: 0.8209\n",
      "테스트 loss: 0.5291454195976257\n",
      "테스트 정확도: 0.8208763003349304\n"
     ]
    }
   ],
   "source": [
    "test_loss, test_acc = model.evaluate(X_test, Y_test)\n",
    "\n",
    "print('테스트 loss:', test_loss)\n",
    "print('테스트 정확도:', test_acc)"
   ]
  },
  {
   "cell_type": "code",
   "execution_count": 50,
   "metadata": {},
   "outputs": [
    {
     "data": {
      "image/png": "[encoded data removed]",
      "text/plain": [
       "<Figure size 432x288 with 1 Axes>"
      ]
     },
     "metadata": {
      "needs_background": "light"
     },
     "output_type": "display_data"
    }
   ],
   "source": [
    "#loss plot \n",
    "plt.plot(history.history['loss'])\n",
    "plt.plot(history.history['val_loss'])\n",
    "plt.title('model loss')\n",
    "plt.ylabel('loss')\n",
    "plt.xlabel('epoch')\n",
    "plt.legend(['train', 'test'], loc='upper left')\n",
    "plt.show()"
   ]
  },
  {
   "cell_type": "code",
   "execution_count": 51,
   "metadata": {},
   "outputs": [
    {
     "data": {
      "image/png": "[encoded data removed]",
      "text/plain": [
       "<Figure size 432x288 with 1 Axes>"
      ]
     },
     "metadata": {
      "needs_background": "light"
     },
     "output_type": "display_data"
    }
   ],
   "source": [
    "#accuracy plot \n",
    "plt.plot(history.history['accuracy'])\n",
    "plt.plot(history.history['val_accuracy'])\n",
    "plt.title('model accuracy')\n",
    "plt.ylabel('accuracy')\n",
    "plt.xlabel('epoch')\n",
    "plt.legend(['train', 'test'], loc='upper left')\n",
    "plt.show()"
   ]
  }
 ],
 "metadata": {
  "kernelspec": {
   "display_name": "Python 3",
   "language": "python",
   "name": "python3"
  },
  "language_info": {
   "codemirror_mode": {
    "name": "ipython",
    "version": 3
   },
   "file_extension": ".py",
   "mimetype": "text/x-python",
   "name": "python",
   "nbconvert_exporter": "python",
   "pygments_lexer": "ipython3",
   "version": "3.7.4"
  }
 },
 "nbformat": 4,
 "nbformat_minor": 2
}
