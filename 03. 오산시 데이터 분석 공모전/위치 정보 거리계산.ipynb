{
 "cells": [
  {
   "cell_type": "code",
   "execution_count": 1,
   "metadata": {},
   "outputs": [],
   "source": [
    "import os\n",
    "import pandas as pd \n",
    "import numpy as np\n",
    "import folium\n",
    "import matplotlib.pyplot as plt\n",
    "import seaborn as sns\n",
    "from haversine import haversine\n",
    "\n",
    "#한글폰트 설정\n",
    "plt.rc('font', family = 'Malgun Gothic')"
   ]
  },
  {
   "cell_type": "markdown",
   "metadata": {},
   "source": [
    "## 데이터 병합"
   ]
  },
  {
   "cell_type": "code",
   "execution_count": 2,
   "metadata": {},
   "outputs": [
    {
     "name": "stderr",
     "output_type": "stream",
     "text": [
      "C:\\Users\\admin\\Anaconda3\\lib\\site-packages\\IPython\\core\\interactiveshell.py:3058: DtypeWarning: Columns (5,8,11,15,18) have mixed types. Specify dtype option on import or set low_memory=False.\n",
      "  interactivity=interactivity, compiler=compiler, result=result)\n",
      "C:\\Users\\admin\\Anaconda3\\lib\\site-packages\\IPython\\core\\interactiveshell.py:3058: DtypeWarning: Columns (0,3,4,5,6) have mixed types. Specify dtype option on import or set low_memory=False.\n",
      "  interactivity=interactivity, compiler=compiler, result=result)\n"
     ]
    }
   ],
   "source": [
    "#데이터 병합\n",
    "data = pd.DataFrame()\n",
    "\n",
    "#버스정류장 \n",
    "os.chdir(\"C:\\\\Users\\\\admin\\\\PycharmProjects\\\\오산시\")\n",
    "bus_df = pd.read_csv(\"전국버스정류장 위치정보.csv\", encoding='cp949')\n",
    "df_osan_bus = bus_df[bus_df.ADMIN_NM == '오산'].reset_index(drop = True)\n",
    "\n",
    "data['위도'] = df_osan_bus['GPS_LATI']\n",
    "data['경도'] = df_osan_bus['GPS_LONG']\n",
    "data['시설명'] = '버스정류장'\n",
    "\n",
    "#도시철도\n",
    "metro_df = pd.read_csv(\"도시철도역사정보.csv\", encoding='cp949')\n",
    "osan_metro_df = metro_df[metro_df['역사도로명주소'].str.contains('오산')].reset_index(drop = True)\n",
    "\n",
    "update_data = pd.DataFrame()\n",
    "update_data['위도'] = osan_metro_df['역위도']\n",
    "update_data['경도'] = osan_metro_df['역경도']\n",
    "update_data['시설명'] = '지하철'\n",
    "\n",
    "data = pd.concat([data, update_data])\n",
    "\n",
    "#어린이집  \n",
    "kid_df = pd.read_csv(\"어린이집도로명주소 변환.csv\", encoding='cp949')\n",
    "kid_df = kid_df[['소재지도로명주소', 'X', 'Y']].dropna()\n",
    "\n",
    "update_data = pd.DataFrame()\n",
    "update_data['위도'] = kid_df['Y']\n",
    "update_data['경도'] = kid_df['X']\n",
    "update_data['시설명'] = '어린이집'\n",
    "data = pd.concat([data, update_data])\n",
    "\n",
    "#초등학교 \n",
    "eschool_df = pd.read_csv(\"오산시 초등학교 현황.csv\")\n",
    "\n",
    "update_data = pd.DataFrame()\n",
    "update_data['위도'] = eschool_df['WGS84위도']\n",
    "update_data['경도'] = eschool_df['WGS84경도']\n",
    "update_data['시설명'] = '초등학교'\n",
    "data = pd.concat([data, update_data])\n",
    "\n",
    "#중학교\n",
    "eschool_df = pd.read_csv(\"오산시 중학교 현황.csv\")\n",
    "\n",
    "update_data = pd.DataFrame()\n",
    "update_data['위도'] = eschool_df['WGS84위도']\n",
    "update_data['경도'] = eschool_df['WGS84경도']\n",
    "update_data['시설명'] = '중학교'\n",
    "data = pd.concat([data, update_data])\n",
    "\n",
    "data = data.reset_index(drop = True)"
   ]
  },
  {
   "cell_type": "code",
   "execution_count": 3,
   "metadata": {},
   "outputs": [
    {
     "data": {
      "text/html": [
       "<div>\n",
       "<style scoped>\n",
       "    .dataframe tbody tr th:only-of-type {\n",
       "        vertical-align: middle;\n",
       "    }\n",
       "\n",
       "    .dataframe tbody tr th {\n",
       "        vertical-align: top;\n",
       "    }\n",
       "\n",
       "    .dataframe thead th {\n",
       "        text-align: right;\n",
       "    }\n",
       "</style>\n",
       "<table border=\"1\" class=\"dataframe\">\n",
       "  <thead>\n",
       "    <tr style=\"text-align: right;\">\n",
       "      <th></th>\n",
       "      <th>위도</th>\n",
       "      <th>경도</th>\n",
       "      <th>시설명</th>\n",
       "    </tr>\n",
       "  </thead>\n",
       "  <tbody>\n",
       "    <tr>\n",
       "      <td>0</td>\n",
       "      <td>37.170183</td>\n",
       "      <td>127.057650</td>\n",
       "      <td>버스정류장</td>\n",
       "    </tr>\n",
       "    <tr>\n",
       "      <td>1</td>\n",
       "      <td>37.162667</td>\n",
       "      <td>127.037983</td>\n",
       "      <td>버스정류장</td>\n",
       "    </tr>\n",
       "    <tr>\n",
       "      <td>2</td>\n",
       "      <td>37.162817</td>\n",
       "      <td>127.037700</td>\n",
       "      <td>버스정류장</td>\n",
       "    </tr>\n",
       "    <tr>\n",
       "      <td>3</td>\n",
       "      <td>37.161317</td>\n",
       "      <td>127.038733</td>\n",
       "      <td>버스정류장</td>\n",
       "    </tr>\n",
       "    <tr>\n",
       "      <td>4</td>\n",
       "      <td>37.196917</td>\n",
       "      <td>127.051783</td>\n",
       "      <td>버스정류장</td>\n",
       "    </tr>\n",
       "    <tr>\n",
       "      <td>...</td>\n",
       "      <td>...</td>\n",
       "      <td>...</td>\n",
       "      <td>...</td>\n",
       "    </tr>\n",
       "    <tr>\n",
       "      <td>699</td>\n",
       "      <td>37.157888</td>\n",
       "      <td>127.078027</td>\n",
       "      <td>중학교</td>\n",
       "    </tr>\n",
       "    <tr>\n",
       "      <td>700</td>\n",
       "      <td>37.167778</td>\n",
       "      <td>127.068500</td>\n",
       "      <td>중학교</td>\n",
       "    </tr>\n",
       "    <tr>\n",
       "      <td>701</td>\n",
       "      <td>37.139757</td>\n",
       "      <td>127.081003</td>\n",
       "      <td>중학교</td>\n",
       "    </tr>\n",
       "    <tr>\n",
       "      <td>702</td>\n",
       "      <td>37.139447</td>\n",
       "      <td>127.072561</td>\n",
       "      <td>중학교</td>\n",
       "    </tr>\n",
       "    <tr>\n",
       "      <td>703</td>\n",
       "      <td>37.161864</td>\n",
       "      <td>127.056978</td>\n",
       "      <td>중학교</td>\n",
       "    </tr>\n",
       "  </tbody>\n",
       "</table>\n",
       "<p>704 rows × 3 columns</p>\n",
       "</div>"
      ],
      "text/plain": [
       "            위도          경도    시설명\n",
       "0    37.170183  127.057650  버스정류장\n",
       "1    37.162667  127.037983  버스정류장\n",
       "2    37.162817  127.037700  버스정류장\n",
       "3    37.161317  127.038733  버스정류장\n",
       "4    37.196917  127.051783  버스정류장\n",
       "..         ...         ...    ...\n",
       "699  37.157888  127.078027    중학교\n",
       "700  37.167778  127.068500    중학교\n",
       "701  37.139757  127.081003    중학교\n",
       "702  37.139447  127.072561    중학교\n",
       "703  37.161864  127.056978    중학교\n",
       "\n",
       "[704 rows x 3 columns]"
      ]
     },
     "execution_count": 3,
     "metadata": {},
     "output_type": "execute_result"
    }
   ],
   "source": [
    "data"
   ]
  },
  {
   "cell_type": "markdown",
   "metadata": {},
   "source": [
    "## 후보지 데이터"
   ]
  },
  {
   "cell_type": "code",
   "execution_count": 28,
   "metadata": {},
   "outputs": [],
   "source": [
    "select_df = pd.DataFrame({'후보지': ['세남로14번길', '수목원로','금곡로','청호로','갈곶육교 인근'],\n",
    "                             '위도' : [37.196023, 37.162027, 37.173792, 37.128387, 37.132654],\n",
    "                             '경도' : [127.040028, 127.051036, 127.080778, 127.083632, 127.062880],                              \n",
    "                            })"
   ]
  },
  {
   "cell_type": "code",
   "execution_count": 29,
   "metadata": {},
   "outputs": [
    {
     "data": {
      "text/html": [
       "<div>\n",
       "<style scoped>\n",
       "    .dataframe tbody tr th:only-of-type {\n",
       "        vertical-align: middle;\n",
       "    }\n",
       "\n",
       "    .dataframe tbody tr th {\n",
       "        vertical-align: top;\n",
       "    }\n",
       "\n",
       "    .dataframe thead th {\n",
       "        text-align: right;\n",
       "    }\n",
       "</style>\n",
       "<table border=\"1\" class=\"dataframe\">\n",
       "  <thead>\n",
       "    <tr style=\"text-align: right;\">\n",
       "      <th></th>\n",
       "      <th>후보지</th>\n",
       "      <th>위도</th>\n",
       "      <th>경도</th>\n",
       "    </tr>\n",
       "  </thead>\n",
       "  <tbody>\n",
       "    <tr>\n",
       "      <td>0</td>\n",
       "      <td>세남로14번길</td>\n",
       "      <td>37.196023</td>\n",
       "      <td>127.040028</td>\n",
       "    </tr>\n",
       "    <tr>\n",
       "      <td>1</td>\n",
       "      <td>수목원로</td>\n",
       "      <td>37.162027</td>\n",
       "      <td>127.051036</td>\n",
       "    </tr>\n",
       "    <tr>\n",
       "      <td>2</td>\n",
       "      <td>금곡로</td>\n",
       "      <td>37.173792</td>\n",
       "      <td>127.080778</td>\n",
       "    </tr>\n",
       "    <tr>\n",
       "      <td>3</td>\n",
       "      <td>청호로</td>\n",
       "      <td>37.128387</td>\n",
       "      <td>127.083632</td>\n",
       "    </tr>\n",
       "    <tr>\n",
       "      <td>4</td>\n",
       "      <td>갈곶육교 인근</td>\n",
       "      <td>37.132654</td>\n",
       "      <td>127.062880</td>\n",
       "    </tr>\n",
       "  </tbody>\n",
       "</table>\n",
       "</div>"
      ],
      "text/plain": [
       "       후보지         위도          경도\n",
       "0  세남로14번길  37.196023  127.040028\n",
       "1     수목원로  37.162027  127.051036\n",
       "2      금곡로  37.173792  127.080778\n",
       "3      청호로  37.128387  127.083632\n",
       "4  갈곶육교 인근  37.132654  127.062880"
      ]
     },
     "execution_count": 29,
     "metadata": {},
     "output_type": "execute_result"
    }
   ],
   "source": [
    "select_df"
   ]
  },
  {
   "cell_type": "markdown",
   "metadata": {},
   "source": [
    "## 위치선정 모델링"
   ]
  },
  {
   "cell_type": "code",
   "execution_count": 6,
   "metadata": {},
   "outputs": [],
   "source": [
    "def make_distance_df(selcet_lati, selcet_long, data, range_set):\n",
    "    #후보지 좌표\n",
    "    selcet_point = (selcet_lati, selcet_long)\n",
    "    \n",
    "    lati_list = []\n",
    "    long_list = [] \n",
    "    name_list = [] \n",
    "    distance_list = [] \n",
    "    \n",
    "    for i in range(len(data)):\n",
    "        #시설물 좌표\n",
    "        facility_point = (data['위도'][i], data['경도'][i])\n",
    "        dist = haversine(selcet_point, facility_point, unit='km')\n",
    "\n",
    "        if dist <= range_set:\n",
    "            lati_list.append(data['위도'][i])\n",
    "            long_list.append(data['경도'][i])\n",
    "            name_list.append(data['시설명'][i])\n",
    "            distance_list.append(dist)\n",
    "\n",
    "    n_df = pd.DataFrame({'위도': lati_list, '경도': long_list, '시설명': name_list, '거리':distance_list})\n",
    "    \n",
    "    return n_df"
   ]
  },
  {
   "cell_type": "code",
   "execution_count": 7,
   "metadata": {},
   "outputs": [],
   "source": [
    "def create_map(selcet_lati, selcet_long, n_df, pilename):\n",
    "    NODE_NM = n_df['시설명']\n",
    "    GPS_LATI = n_df['위도']\n",
    "    GPS_LONG = n_df['경도']\n",
    "\n",
    "    #지도의 중심을 지정하기 위해 위도와 경도의 평균 구하기\n",
    "    lat = GPS_LATI.mean()\n",
    "    long = GPS_LONG.mean()\n",
    "\n",
    "    #지도 띄우기\n",
    "    m = folium.Map([lat, long], zoom_start = 9)\n",
    "\n",
    "    bus_coords = []\n",
    "    metro_coords = []\n",
    "    kid_coords = []\n",
    "    eschool_coords = []\n",
    "    mschool_coords = []\n",
    "    \n",
    "    for i in range(len(NODE_NM)):\n",
    "        if NODE_NM[i] == '버스정류장':\n",
    "            x = GPS_LATI[i]\n",
    "            y = GPS_LONG[i]\n",
    "            bus_coords.append([x, y])\n",
    "\n",
    "    for i in range(len(bus_coords)):\n",
    "        folium.Marker(\n",
    "            location = bus_coords[i],\n",
    "            icon=folium.Icon(color = 'green')\n",
    "        ).add_to(m)\n",
    "\n",
    "    for i in range(len(NODE_NM)):\n",
    "        if NODE_NM[i] == '지하철':\n",
    "            x = GPS_LATI[i]\n",
    "            y = GPS_LONG[i]\n",
    "            metro_coords.append([x, y])\n",
    "\n",
    "    for i in range(len(metro_coords)):\n",
    "        folium.Marker(\n",
    "            location = metro_coords[i],\n",
    "            icon=folium.Icon(color = 'blue')\n",
    "        ).add_to(m)\n",
    "\n",
    "    for i in range(len(NODE_NM)):\n",
    "        if NODE_NM[i] == '어린이집':\n",
    "            x = GPS_LATI[i]\n",
    "            y = GPS_LONG[i]\n",
    "            kid_coords.append([x, y])\n",
    "\n",
    "    for i in range(len(kid_coords)):\n",
    "        folium.Marker(\n",
    "            location = kid_coords[i],\n",
    "            icon=folium.Icon(color = 'orange')\n",
    "        ).add_to(m)\n",
    "\n",
    "    for i in range(len(NODE_NM)):\n",
    "        if NODE_NM[i] == '초등학교':\n",
    "            x = GPS_LATI[i]\n",
    "            y = GPS_LONG[i]\n",
    "            eschool_coords.append([x, y])\n",
    "\n",
    "    for i in range(len(eschool_coords)):\n",
    "        folium.Marker(\n",
    "            location = eschool_coords[i],\n",
    "            icon=folium.Icon(color = 'red')\n",
    "        ).add_to(m)\n",
    "    \n",
    "    for i in range(len(NODE_NM)):\n",
    "        if NODE_NM[i] == '중학교':\n",
    "            x = GPS_LATI[i]\n",
    "            y = GPS_LONG[i]\n",
    "            mschool_coords.append([x, y])\n",
    "\n",
    "    for i in range(len(mschool_coords)):\n",
    "        folium.Marker(\n",
    "            location = mschool_coords[i],\n",
    "            icon=folium.Icon(color = 'black')\n",
    "        ).add_to(m)\n",
    "\n",
    "    folium.Circle(\n",
    "            location = (selcet_lati, selcet_long),\n",
    "            radius = 1500,\n",
    "            color = 'green',\n",
    "            fill = 'crimson',\n",
    "        ).add_to(m)\n",
    "\n",
    "    m.save(pilename)"
   ]
  },
  {
   "cell_type": "markdown",
   "metadata": {},
   "source": [
    "## 위치시설 분석 "
   ]
  },
  {
   "cell_type": "code",
   "execution_count": 8,
   "metadata": {},
   "outputs": [
    {
     "data": {
      "text/html": [
       "<div>\n",
       "<style scoped>\n",
       "    .dataframe tbody tr th:only-of-type {\n",
       "        vertical-align: middle;\n",
       "    }\n",
       "\n",
       "    .dataframe tbody tr th {\n",
       "        vertical-align: top;\n",
       "    }\n",
       "\n",
       "    .dataframe thead th {\n",
       "        text-align: right;\n",
       "    }\n",
       "</style>\n",
       "<table border=\"1\" class=\"dataframe\">\n",
       "  <thead>\n",
       "    <tr style=\"text-align: right;\">\n",
       "      <th></th>\n",
       "      <th>후보지</th>\n",
       "      <th>위도</th>\n",
       "      <th>경도</th>\n",
       "    </tr>\n",
       "  </thead>\n",
       "  <tbody>\n",
       "    <tr>\n",
       "      <td>0</td>\n",
       "      <td>세남로14번길</td>\n",
       "      <td>37.196023</td>\n",
       "      <td>127.040028</td>\n",
       "    </tr>\n",
       "    <tr>\n",
       "      <td>1</td>\n",
       "      <td>수목원로</td>\n",
       "      <td>37.162027</td>\n",
       "      <td>127.051036</td>\n",
       "    </tr>\n",
       "    <tr>\n",
       "      <td>2</td>\n",
       "      <td>금곡로</td>\n",
       "      <td>37.173792</td>\n",
       "      <td>127.080778</td>\n",
       "    </tr>\n",
       "    <tr>\n",
       "      <td>3</td>\n",
       "      <td>청호로</td>\n",
       "      <td>37.128387</td>\n",
       "      <td>127.083632</td>\n",
       "    </tr>\n",
       "    <tr>\n",
       "      <td>4</td>\n",
       "      <td>갈곶육교</td>\n",
       "      <td>37.132654</td>\n",
       "      <td>127.062880</td>\n",
       "    </tr>\n",
       "  </tbody>\n",
       "</table>\n",
       "</div>"
      ],
      "text/plain": [
       "       후보지         위도          경도\n",
       "0  세남로14번길  37.196023  127.040028\n",
       "1     수목원로  37.162027  127.051036\n",
       "2      금곡로  37.173792  127.080778\n",
       "3      청호로  37.128387  127.083632\n",
       "4     갈곶육교  37.132654  127.062880"
      ]
     },
     "execution_count": 8,
     "metadata": {},
     "output_type": "execute_result"
    }
   ],
   "source": [
    "select_df"
   ]
  },
  {
   "cell_type": "code",
   "execution_count": 9,
   "metadata": {},
   "outputs": [],
   "source": [
    "# 1.5km 이내 \n",
    "senam_df = make_distance_df(37.196023, 127.040028, data, 1.5)\n",
    "#create_map(37.196023, 127.040028, senam_df, '세남로14번길 map.html')\n",
    "\n",
    "su_df = make_distance_df(37.162027, 127.051036, data, 1.5)\n",
    "#create_map(37.162027, 127.051036, su_df, '수목원로 map.html')\n",
    "\n",
    "geumgok_df = make_distance_df(37.173792, 127.080778, data, 1.5)\n",
    "#create_map(37.173792, 127.080778, geumgok_df, '금곡로 map.html')\n",
    "\n",
    "chungho_df = make_distance_df(37.128387, 127.083632, data, 1.5)\n",
    "#create_map(37.128387, 127.083632, chungho_df, '청호로 map.html')\n",
    "\n",
    "gal_df = make_distance_df(37.132654, 127.062880, data, 1.5)\n",
    "#create_map(37.132654, 127.062880, gal_df, '갈곶육교 map.html')"
   ]
  },
  {
   "cell_type": "code",
   "execution_count": 10,
   "metadata": {},
   "outputs": [
    {
     "data": {
      "text/plain": [
       "버스정류장    45\n",
       "어린이집     18\n",
       "초등학교      2\n",
       "지하철       2\n",
       "Name: 시설명, dtype: int64"
      ]
     },
     "execution_count": 10,
     "metadata": {},
     "output_type": "execute_result"
    }
   ],
   "source": [
    "senam_df['시설명'].value_counts()"
   ]
  },
  {
   "cell_type": "code",
   "execution_count": 11,
   "metadata": {},
   "outputs": [
    {
     "data": {
      "text/plain": [
       "버스정류장    67\n",
       "어린이집     37\n",
       "초등학교      4\n",
       "중학교       3\n",
       "지하철       1\n",
       "Name: 시설명, dtype: int64"
      ]
     },
     "execution_count": 11,
     "metadata": {},
     "output_type": "execute_result"
    }
   ],
   "source": [
    "su_df['시설명'].value_counts()"
   ]
  },
  {
   "cell_type": "code",
   "execution_count": 12,
   "metadata": {},
   "outputs": [
    {
     "data": {
      "text/plain": [
       "버스정류장    16\n",
       "어린이집     14\n",
       "초등학교      2\n",
       "중학교       1\n",
       "Name: 시설명, dtype: int64"
      ]
     },
     "execution_count": 12,
     "metadata": {},
     "output_type": "execute_result"
    }
   ],
   "source": [
    "geumgok_df['시설명'].value_counts()"
   ]
  },
  {
   "cell_type": "code",
   "execution_count": 13,
   "metadata": {},
   "outputs": [
    {
     "data": {
      "text/plain": [
       "버스정류장    49\n",
       "어린이집     43\n",
       "초등학교      3\n",
       "중학교       1\n",
       "Name: 시설명, dtype: int64"
      ]
     },
     "execution_count": 13,
     "metadata": {},
     "output_type": "execute_result"
    }
   ],
   "source": [
    "chungho_df['시설명'].value_counts()"
   ]
  },
  {
   "cell_type": "code",
   "execution_count": 14,
   "metadata": {},
   "outputs": [
    {
     "data": {
      "text/plain": [
       "어린이집     53\n",
       "버스정류장    50\n",
       "초등학교      3\n",
       "중학교       1\n",
       "지하철       1\n",
       "Name: 시설명, dtype: int64"
      ]
     },
     "execution_count": 14,
     "metadata": {},
     "output_type": "execute_result"
    }
   ],
   "source": [
    "gal_df['시설명'].value_counts()"
   ]
  },
  {
   "cell_type": "markdown",
   "metadata": {},
   "source": [
    "## 세대수 분석"
   ]
  },
  {
   "cell_type": "code",
   "execution_count": 15,
   "metadata": {},
   "outputs": [],
   "source": [
    "resi_df = pd.read_csv(\"오산시 공동주택현황_20201005.csv\", encoding='cp949')"
   ]
  },
  {
   "cell_type": "code",
   "execution_count": 16,
   "metadata": {},
   "outputs": [],
   "source": [
    "def make_distance_resi_df(selcet_lati, selcet_long, data, range_set):\n",
    "    #후보지 좌표\n",
    "    selcet_point = (selcet_lati, selcet_long)\n",
    "    \n",
    "    lati_list = []\n",
    "    long_list = [] \n",
    "    name_list = [] \n",
    "    distance_list = [] \n",
    "    number_list = [] \n",
    "    \n",
    "    for i in range(len(data)):\n",
    "        #시설물 좌표\n",
    "        facility_point = (data['Y좌표'][i], data['X좌표'][i])\n",
    "        dist = haversine(selcet_point, facility_point, unit='km')\n",
    "\n",
    "        if dist <= range_set:\n",
    "            lati_list.append(data['Y좌표'][i])\n",
    "            long_list.append(data['X좌표'][i])\n",
    "            name_list.append(data['아파트명'][i])\n",
    "            number_list.append(data['세대수 '][i])\n",
    "            distance_list.append(dist)\n",
    "\n",
    "    n_df = pd.DataFrame({'위도': lati_list, '경도': long_list, '시설명': name_list, '세대수': number_list,'거리':distance_list})\n",
    "    \n",
    "    return n_df"
   ]
  },
  {
   "cell_type": "code",
   "execution_count": 17,
   "metadata": {},
   "outputs": [],
   "source": [
    "resi_senam_df = make_distance_resi_df(37.196023, 127.040028, resi_df, 1.5)\n",
    "\n",
    "resi_su_df = make_distance_resi_df(37.162027, 127.051036, resi_df, 1.5)\n",
    "\n",
    "resi_geumgok_df = make_distance_resi_df(37.173792, 127.080778, resi_df, 1.5)\n",
    "\n",
    "resi_chungho_df = make_distance_resi_df(37.128387, 127.083632, resi_df, 1.5)\n",
    "\n",
    "resi_gal_df = make_distance_resi_df(37.132654, 127.062880, resi_df, 1.5)"
   ]
  },
  {
   "cell_type": "code",
   "execution_count": 18,
   "metadata": {},
   "outputs": [
    {
     "data": {
      "text/plain": [
       "4381"
      ]
     },
     "execution_count": 18,
     "metadata": {},
     "output_type": "execute_result"
    }
   ],
   "source": [
    "sum(resi_senam_df['세대수'])"
   ]
  },
  {
   "cell_type": "code",
   "execution_count": 19,
   "metadata": {},
   "outputs": [
    {
     "data": {
      "text/plain": [
       "7013"
      ]
     },
     "execution_count": 19,
     "metadata": {},
     "output_type": "execute_result"
    }
   ],
   "source": [
    "sum(resi_su_df['세대수'])"
   ]
  },
  {
   "cell_type": "code",
   "execution_count": 20,
   "metadata": {},
   "outputs": [
    {
     "data": {
      "text/plain": [
       "4028"
      ]
     },
     "execution_count": 20,
     "metadata": {},
     "output_type": "execute_result"
    }
   ],
   "source": [
    "sum(resi_geumgok_df['세대수'])"
   ]
  },
  {
   "cell_type": "code",
   "execution_count": 21,
   "metadata": {},
   "outputs": [
    {
     "data": {
      "text/plain": [
       "10439"
      ]
     },
     "execution_count": 21,
     "metadata": {},
     "output_type": "execute_result"
    }
   ],
   "source": [
    "sum(resi_chungho_df['세대수'])"
   ]
  },
  {
   "cell_type": "code",
   "execution_count": 22,
   "metadata": {},
   "outputs": [
    {
     "data": {
      "text/plain": [
       "11357"
      ]
     },
     "execution_count": 22,
     "metadata": {},
     "output_type": "execute_result"
    }
   ],
   "source": [
    "sum(resi_gal_df['세대수'])"
   ]
  },
  {
   "cell_type": "markdown",
   "metadata": {},
   "source": [
    "## 결과"
   ]
  },
  {
   "cell_type": "code",
   "execution_count": 23,
   "metadata": {},
   "outputs": [],
   "source": [
    "result_df = select_df.copy()\n",
    "result_df['버스정류장'] = [45, 67, 16, 49, 53]\n",
    "result_df['지하철'] = [2, 1, 0, 0, 1]\n",
    "result_df['어린이집'] = [18, 37, 14, 43, 53]\n",
    "result_df['초등학교'] = [2,4,2,3,3]\n",
    "result_df['중학교'] = [0,3,1,1,1]\n",
    "result_df['세대수'] = [4381, 7013, 4028, 10439, 11357]"
   ]
  },
  {
   "cell_type": "code",
   "execution_count": 24,
   "metadata": {},
   "outputs": [
    {
     "data": {
      "text/html": [
       "<div>\n",
       "<style scoped>\n",
       "    .dataframe tbody tr th:only-of-type {\n",
       "        vertical-align: middle;\n",
       "    }\n",
       "\n",
       "    .dataframe tbody tr th {\n",
       "        vertical-align: top;\n",
       "    }\n",
       "\n",
       "    .dataframe thead th {\n",
       "        text-align: right;\n",
       "    }\n",
       "</style>\n",
       "<table border=\"1\" class=\"dataframe\">\n",
       "  <thead>\n",
       "    <tr style=\"text-align: right;\">\n",
       "      <th></th>\n",
       "      <th>후보지</th>\n",
       "      <th>위도</th>\n",
       "      <th>경도</th>\n",
       "      <th>버스정류장</th>\n",
       "      <th>지하철</th>\n",
       "      <th>어린이집</th>\n",
       "      <th>초등학교</th>\n",
       "      <th>중학교</th>\n",
       "      <th>세대수</th>\n",
       "    </tr>\n",
       "  </thead>\n",
       "  <tbody>\n",
       "    <tr>\n",
       "      <td>0</td>\n",
       "      <td>세남로14번길</td>\n",
       "      <td>37.196023</td>\n",
       "      <td>127.040028</td>\n",
       "      <td>45</td>\n",
       "      <td>2</td>\n",
       "      <td>18</td>\n",
       "      <td>2</td>\n",
       "      <td>0</td>\n",
       "      <td>4381</td>\n",
       "    </tr>\n",
       "    <tr>\n",
       "      <td>1</td>\n",
       "      <td>수목원로</td>\n",
       "      <td>37.162027</td>\n",
       "      <td>127.051036</td>\n",
       "      <td>67</td>\n",
       "      <td>1</td>\n",
       "      <td>37</td>\n",
       "      <td>4</td>\n",
       "      <td>3</td>\n",
       "      <td>7013</td>\n",
       "    </tr>\n",
       "    <tr>\n",
       "      <td>2</td>\n",
       "      <td>금곡로</td>\n",
       "      <td>37.173792</td>\n",
       "      <td>127.080778</td>\n",
       "      <td>16</td>\n",
       "      <td>0</td>\n",
       "      <td>14</td>\n",
       "      <td>2</td>\n",
       "      <td>1</td>\n",
       "      <td>4028</td>\n",
       "    </tr>\n",
       "    <tr>\n",
       "      <td>3</td>\n",
       "      <td>청호로</td>\n",
       "      <td>37.128387</td>\n",
       "      <td>127.083632</td>\n",
       "      <td>49</td>\n",
       "      <td>0</td>\n",
       "      <td>43</td>\n",
       "      <td>3</td>\n",
       "      <td>1</td>\n",
       "      <td>10439</td>\n",
       "    </tr>\n",
       "    <tr>\n",
       "      <td>4</td>\n",
       "      <td>갈곶육교</td>\n",
       "      <td>37.132654</td>\n",
       "      <td>127.062880</td>\n",
       "      <td>53</td>\n",
       "      <td>1</td>\n",
       "      <td>53</td>\n",
       "      <td>3</td>\n",
       "      <td>1</td>\n",
       "      <td>11357</td>\n",
       "    </tr>\n",
       "  </tbody>\n",
       "</table>\n",
       "</div>"
      ],
      "text/plain": [
       "       후보지         위도          경도  버스정류장  지하철  어린이집  초등학교  중학교    세대수\n",
       "0  세남로14번길  37.196023  127.040028     45    2    18     2    0   4381\n",
       "1     수목원로  37.162027  127.051036     67    1    37     4    3   7013\n",
       "2      금곡로  37.173792  127.080778     16    0    14     2    1   4028\n",
       "3      청호로  37.128387  127.083632     49    0    43     3    1  10439\n",
       "4     갈곶육교  37.132654  127.062880     53    1    53     3    1  11357"
      ]
     },
     "execution_count": 24,
     "metadata": {},
     "output_type": "execute_result"
    }
   ],
   "source": [
    "result_df"
   ]
  },
  {
   "cell_type": "code",
   "execution_count": 26,
   "metadata": {},
   "outputs": [],
   "source": [
    "socore1_list = [] \n",
    "label_n = 2\n",
    "for i in range(len(result_df)):\n",
    "    w1 = result_df['버스정류장'][i] / max(result_df['버스정류장'])\n",
    "    w2 = result_df['지하철'][i] / max(result_df['지하철'])\n",
    "    socore1_list.append((w1+w2)*100/label_n)\n",
    "\n",
    "result_df['접근성 점수'] = socore1_list\n",
    "\n",
    "socore2_list = [] \n",
    "label_n = 3 \n",
    "for i in range(len(result_df)):\n",
    "    w1 = result_df['어린이집'][i] / max(result_df['어린이집'])\n",
    "    w2 = result_df['초등학교'][i] / max(result_df['초등학교'])\n",
    "    w3 = result_df['중학교'][i] / max(result_df['중학교'])\n",
    "    socore2_list.append((w1+ w2+ w3)*100/label_n)\n",
    "    \n",
    "result_df['연계성 점수'] = socore2_list\n",
    "\n",
    "label_n = 1\n",
    "socore3_list = [] \n",
    "for i in range(len(result_df)):\n",
    "    w1 = result_df['세대수'][i] / max(result_df['세대수'])\n",
    "    socore3_list.append(w1*100/label_n)\n",
    "\n",
    "result_df['수요 점수'] = socore3_list\n",
    "\n",
    "result_df['평균 점수'] = (result_df['접근성 점수'] + result_df['연계성 점수'] + result_df['수요 점수']) / 3"
   ]
  },
  {
   "cell_type": "code",
   "execution_count": 30,
   "metadata": {},
   "outputs": [
    {
     "data": {
      "text/html": [
       "<div>\n",
       "<style scoped>\n",
       "    .dataframe tbody tr th:only-of-type {\n",
       "        vertical-align: middle;\n",
       "    }\n",
       "\n",
       "    .dataframe tbody tr th {\n",
       "        vertical-align: top;\n",
       "    }\n",
       "\n",
       "    .dataframe thead th {\n",
       "        text-align: right;\n",
       "    }\n",
       "</style>\n",
       "<table border=\"1\" class=\"dataframe\">\n",
       "  <thead>\n",
       "    <tr style=\"text-align: right;\">\n",
       "      <th></th>\n",
       "      <th>후보지</th>\n",
       "      <th>위도</th>\n",
       "      <th>경도</th>\n",
       "      <th>버스정류장</th>\n",
       "      <th>지하철</th>\n",
       "      <th>어린이집</th>\n",
       "      <th>초등학교</th>\n",
       "      <th>중학교</th>\n",
       "      <th>세대수</th>\n",
       "      <th>접근성 점수</th>\n",
       "      <th>연계성 점수</th>\n",
       "      <th>수요 점수</th>\n",
       "      <th>평균 점수</th>\n",
       "    </tr>\n",
       "  </thead>\n",
       "  <tbody>\n",
       "    <tr>\n",
       "      <td>0</td>\n",
       "      <td>세남로14번길</td>\n",
       "      <td>37.196023</td>\n",
       "      <td>127.040028</td>\n",
       "      <td>45</td>\n",
       "      <td>2</td>\n",
       "      <td>18</td>\n",
       "      <td>2</td>\n",
       "      <td>0</td>\n",
       "      <td>4381</td>\n",
       "      <td>83.582090</td>\n",
       "      <td>27.987421</td>\n",
       "      <td>38.575328</td>\n",
       "      <td>50.048280</td>\n",
       "    </tr>\n",
       "    <tr>\n",
       "      <td>1</td>\n",
       "      <td>수목원로</td>\n",
       "      <td>37.162027</td>\n",
       "      <td>127.051036</td>\n",
       "      <td>67</td>\n",
       "      <td>1</td>\n",
       "      <td>37</td>\n",
       "      <td>4</td>\n",
       "      <td>3</td>\n",
       "      <td>7013</td>\n",
       "      <td>75.000000</td>\n",
       "      <td>89.937107</td>\n",
       "      <td>61.750462</td>\n",
       "      <td>75.562523</td>\n",
       "    </tr>\n",
       "    <tr>\n",
       "      <td>2</td>\n",
       "      <td>금곡로</td>\n",
       "      <td>37.173792</td>\n",
       "      <td>127.080778</td>\n",
       "      <td>16</td>\n",
       "      <td>0</td>\n",
       "      <td>14</td>\n",
       "      <td>2</td>\n",
       "      <td>1</td>\n",
       "      <td>4028</td>\n",
       "      <td>11.940299</td>\n",
       "      <td>36.582809</td>\n",
       "      <td>35.467113</td>\n",
       "      <td>27.996740</td>\n",
       "    </tr>\n",
       "    <tr>\n",
       "      <td>3</td>\n",
       "      <td>청호로</td>\n",
       "      <td>37.128387</td>\n",
       "      <td>127.083632</td>\n",
       "      <td>49</td>\n",
       "      <td>0</td>\n",
       "      <td>43</td>\n",
       "      <td>3</td>\n",
       "      <td>1</td>\n",
       "      <td>10439</td>\n",
       "      <td>36.567164</td>\n",
       "      <td>63.155136</td>\n",
       "      <td>91.916879</td>\n",
       "      <td>63.879727</td>\n",
       "    </tr>\n",
       "    <tr>\n",
       "      <td>4</td>\n",
       "      <td>갈곶육교</td>\n",
       "      <td>37.132654</td>\n",
       "      <td>127.062880</td>\n",
       "      <td>53</td>\n",
       "      <td>1</td>\n",
       "      <td>53</td>\n",
       "      <td>3</td>\n",
       "      <td>1</td>\n",
       "      <td>11357</td>\n",
       "      <td>64.552239</td>\n",
       "      <td>69.444444</td>\n",
       "      <td>100.000000</td>\n",
       "      <td>77.998894</td>\n",
       "    </tr>\n",
       "  </tbody>\n",
       "</table>\n",
       "</div>"
      ],
      "text/plain": [
       "       후보지         위도          경도  버스정류장  지하철  어린이집  초등학교  중학교    세대수  \\\n",
       "0  세남로14번길  37.196023  127.040028     45    2    18     2    0   4381   \n",
       "1     수목원로  37.162027  127.051036     67    1    37     4    3   7013   \n",
       "2      금곡로  37.173792  127.080778     16    0    14     2    1   4028   \n",
       "3      청호로  37.128387  127.083632     49    0    43     3    1  10439   \n",
       "4     갈곶육교  37.132654  127.062880     53    1    53     3    1  11357   \n",
       "\n",
       "      접근성 점수     연계성 점수       수요 점수      평균 점수  \n",
       "0  83.582090  27.987421   38.575328  50.048280  \n",
       "1  75.000000  89.937107   61.750462  75.562523  \n",
       "2  11.940299  36.582809   35.467113  27.996740  \n",
       "3  36.567164  63.155136   91.916879  63.879727  \n",
       "4  64.552239  69.444444  100.000000  77.998894  "
      ]
     },
     "execution_count": 30,
     "metadata": {},
     "output_type": "execute_result"
    }
   ],
   "source": [
    "result_df"
   ]
  },
  {
   "cell_type": "code",
   "execution_count": 35,
   "metadata": {},
   "outputs": [
    {
     "data": {
      "text/html": [
       "<div>\n",
       "<style scoped>\n",
       "    .dataframe tbody tr th:only-of-type {\n",
       "        vertical-align: middle;\n",
       "    }\n",
       "\n",
       "    .dataframe tbody tr th {\n",
       "        vertical-align: top;\n",
       "    }\n",
       "\n",
       "    .dataframe thead th {\n",
       "        text-align: right;\n",
       "    }\n",
       "</style>\n",
       "<table border=\"1\" class=\"dataframe\">\n",
       "  <thead>\n",
       "    <tr style=\"text-align: right;\">\n",
       "      <th></th>\n",
       "      <th>후보지</th>\n",
       "      <th>위도</th>\n",
       "      <th>경도</th>\n",
       "      <th>접근성 점수</th>\n",
       "      <th>연계성 점수</th>\n",
       "      <th>수요 점수</th>\n",
       "      <th>평균 점수</th>\n",
       "    </tr>\n",
       "  </thead>\n",
       "  <tbody>\n",
       "    <tr>\n",
       "      <td>0</td>\n",
       "      <td>세남로14번길</td>\n",
       "      <td>37.196023</td>\n",
       "      <td>127.040028</td>\n",
       "      <td>83.582090</td>\n",
       "      <td>27.987421</td>\n",
       "      <td>38.575328</td>\n",
       "      <td>50.048280</td>\n",
       "    </tr>\n",
       "    <tr>\n",
       "      <td>1</td>\n",
       "      <td>수목원로</td>\n",
       "      <td>37.162027</td>\n",
       "      <td>127.051036</td>\n",
       "      <td>75.000000</td>\n",
       "      <td>89.937107</td>\n",
       "      <td>61.750462</td>\n",
       "      <td>75.562523</td>\n",
       "    </tr>\n",
       "    <tr>\n",
       "      <td>2</td>\n",
       "      <td>금곡로</td>\n",
       "      <td>37.173792</td>\n",
       "      <td>127.080778</td>\n",
       "      <td>11.940299</td>\n",
       "      <td>36.582809</td>\n",
       "      <td>35.467113</td>\n",
       "      <td>27.996740</td>\n",
       "    </tr>\n",
       "    <tr>\n",
       "      <td>3</td>\n",
       "      <td>청호로</td>\n",
       "      <td>37.128387</td>\n",
       "      <td>127.083632</td>\n",
       "      <td>36.567164</td>\n",
       "      <td>63.155136</td>\n",
       "      <td>91.916879</td>\n",
       "      <td>63.879727</td>\n",
       "    </tr>\n",
       "    <tr>\n",
       "      <td>4</td>\n",
       "      <td>갈곶육교</td>\n",
       "      <td>37.132654</td>\n",
       "      <td>127.062880</td>\n",
       "      <td>64.552239</td>\n",
       "      <td>69.444444</td>\n",
       "      <td>100.000000</td>\n",
       "      <td>77.998894</td>\n",
       "    </tr>\n",
       "  </tbody>\n",
       "</table>\n",
       "</div>"
      ],
      "text/plain": [
       "       후보지         위도          경도     접근성 점수     연계성 점수       수요 점수      평균 점수\n",
       "0  세남로14번길  37.196023  127.040028  83.582090  27.987421   38.575328  50.048280\n",
       "1     수목원로  37.162027  127.051036  75.000000  89.937107   61.750462  75.562523\n",
       "2      금곡로  37.173792  127.080778  11.940299  36.582809   35.467113  27.996740\n",
       "3      청호로  37.128387  127.083632  36.567164  63.155136   91.916879  63.879727\n",
       "4     갈곶육교  37.132654  127.062880  64.552239  69.444444  100.000000  77.998894"
      ]
     },
     "execution_count": 35,
     "metadata": {},
     "output_type": "execute_result"
    }
   ],
   "source": [
    "result_df[['후보지','위도','경도','접근성 점수', '연계성 점수', '수요 점수', '평균 점수']]"
   ]
  }
 ],
 "metadata": {
  "kernelspec": {
   "display_name": "Python 3",
   "language": "python",
   "name": "python3"
  },
  "language_info": {
   "codemirror_mode": {
    "name": "ipython",
    "version": 3
   },
   "file_extension": ".py",
   "mimetype": "text/x-python",
   "name": "python",
   "nbconvert_exporter": "python",
   "pygments_lexer": "ipython3",
   "version": "3.7.4"
  }
 },
 "nbformat": 4,
 "nbformat_minor": 2
}
