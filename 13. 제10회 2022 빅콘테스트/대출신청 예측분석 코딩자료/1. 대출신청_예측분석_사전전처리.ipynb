{
  "nbformat": 4,
  "nbformat_minor": 0,
  "metadata": {
    "colab": {
      "provenance": [],
      "collapsed_sections": [
        "8AqPERG_LjJJ",
        "fjrxpJtcLoE_",
        "EurhMd95M4ZE"
      ]
    },
    "kernelspec": {
      "name": "python3",
      "display_name": "Python 3"
    },
    "language_info": {
      "name": "python"
    }
  },
  "cells": [
    {
      "cell_type": "markdown",
      "source": [
        "# 코드 설명\n",
        "- 신용 대출 신청 여부 예측 전처리 \n",
        "- user_spec, loan_result 전처리한 데이터 생성 후 저장하는 코드"
      ],
      "metadata": {
        "id": "m6QqAz4eLtVe"
      }
    },
    {
      "cell_type": "markdown",
      "source": [
        "# 1. Library, Data"
      ],
      "metadata": {
        "id": "8AqPERG_LjJJ"
      }
    },
    {
      "cell_type": "code",
      "source": [
        "import os \n",
        "import pandas as pd \n",
        "import numpy as np\n",
        "import matplotlib.pyplot as plt\n",
        "from matplotlib import font_manager, rc\n",
        "import seaborn as sns\n",
        "from tqdm import tqdm\n",
        "from sklearn.impute import KNNImputer"
      ],
      "metadata": {
        "id": "lHYq9uVmJ0vG"
      },
      "execution_count": null,
      "outputs": []
    },
    {
      "cell_type": "code",
      "source": [
        "os.chdir(r'C:\\Users\\styli\\Desktop\\빅콘 최종 돌리기 LGBM') #상대 경로 지정\n",
        "user_spec = pd.read_csv('user_spec.csv')\n",
        "user_spec = user_spec.sort_values(['user_id','insert_time']) # 데이터 정렬 \n",
        "loan_result = pd.read_csv('loan_result.csv')"
      ],
      "metadata": {
        "id": "w9JVrA-PLewD"
      },
      "execution_count": null,
      "outputs": []
    },
    {
      "cell_type": "markdown",
      "source": [
        "# 2. user_spec 전처리"
      ],
      "metadata": {
        "id": "fjrxpJtcLoE_"
      }
    },
    {
      "cell_type": "code",
      "source": [
        "def f_personal_rehabilitation(x):\n",
        "  if x == '1.0/0.0': return 1\n",
        "  elif x == '1.0/1.0': return 2\n",
        "  else: return 0\n",
        "\n",
        "def preprocessing_user_spec(user_spec):\n",
        "  user_spec = user_spec.sort_values(['user_id','insert_time']) # 데이터 정렬\n",
        "\n",
        "  '''\n",
        "  개인회생(personal_rehabilitation) 변수 생성\n",
        "  개인회생자가 아닌 경우 : (0,0), (0,Nan), (Nan,Nan), (0,1) -> 0\n",
        "  개인회생자인데 납입중 : (1,0) -> 1\n",
        "  개인회생자인데 납입 완료 : (1,1) -> 2\n",
        "  '''\n",
        "\n",
        "  user_spec['personal_rehabilitation'] = user_spec['personal_rehabilitation_yn'].astype(str) + '/' +user_spec['personal_rehabilitation_complete_yn'].astype(str)\n",
        "  user_spec['personal_rehabilitation'] = user_spec['personal_rehabilitation'].apply(f_personal_rehabilitation)\n",
        "  user_spec.drop(columns=['personal_rehabilitation_yn','personal_rehabilitation_complete_yn'], inplace=True) # 컬럼 제거\n",
        "\n",
        "  '''\n",
        "  기대출수, 기대출수 결측치 보간\n",
        "  (1, nan)인 경우 : (1, 기대출 수가 1인 경우의 기대출금액의 중앙값)으로 채움\n",
        "  (nan, nan)인 경우 : 대출이 없다고 가정하여 (0, 0)으로 채움\n",
        "  '''\n",
        "\n",
        "  user_spec['existing_loan_cnt'] = user_spec['existing_loan_cnt'].fillna(0)\n",
        "  user_spec['existing_loan_amt'] = user_spec['existing_loan_amt'].fillna('None')\n",
        "\n",
        "  col_list = []\n",
        "\n",
        "  for i in range(len(user_spec)):\n",
        "    existing_loan_cnt = user_spec.existing_loan_cnt.iloc[i]\n",
        "    existing_loan_amt = user_spec.existing_loan_amt.iloc[i]\n",
        "    \n",
        "    if existing_loan_amt == 'None':\n",
        "\n",
        "      if existing_loan_cnt == 0:\n",
        "        col_list.append(0)\n",
        "\n",
        "      elif existing_loan_cnt == 1:\n",
        "        col_list.append(10000000)\n",
        "\n",
        "    else:\n",
        "      col_list.append(existing_loan_amt)\n",
        "\n",
        "  user_spec['existing_loan_amt'] = col_list\n",
        "\n",
        "  '''\n",
        "  user_id 별 이전값으로 보간\n",
        "  '''\n",
        "\n",
        "  ndf = []\n",
        "  for idx, df in tqdm(user_spec.groupby('user_id')):\n",
        "    ndf.append(df.fillna(method='ffill'))\n",
        "\n",
        "  user_spec = pd.concat(ndf, axis = 0, ignore_index=True)\n",
        "\n",
        "  '''\n",
        "  user_id 별 이후값으로 보간\n",
        "  '''\n",
        "\n",
        "  ndf = []\n",
        "  for idx, df in tqdm(user_spec.groupby('user_id')):\n",
        "    ndf.append(df.fillna(method='bfill'))\n",
        "\n",
        "  user_spec = pd.concat(ndf, axis = 0, ignore_index=True)\n",
        "\n",
        "  '''\n",
        "  yearly_income 결측치 제거\n",
        "  '''\n",
        "\n",
        "  user_spec = user_spec.dropna(subset=['yearly_income']) # yearly_income 결측값인 행 제거 \n",
        "  user_spec.reset_index(drop=True, inplace=True) # 인덱스 초기화\n",
        "\n",
        "  '''\n",
        "  KNN 결측치 보간\n",
        "  '''\n",
        "\n",
        "  col_names = ['birth_year', 'gender', 'credit_score', 'yearly_income', \n",
        "             'income_type', 'company_enter_month', 'employment_type', 'houseown_type', \n",
        "             'desired_amount', 'purpose', 'existing_loan_cnt', 'existing_loan_amt', \n",
        "             'personal_rehabilitation']\n",
        "\n",
        "  knn_data = user_spec[col_names] # knn data 생성 \n",
        "\n",
        "  # label encoding\n",
        "  label_col = knn_data.select_dtypes('object').columns\n",
        "  label_dict = {}\n",
        "\n",
        "  for i in label_col:\n",
        "      label_dict[i] = {val : idx for idx, val in enumerate(knn_data[i].unique())}\n",
        "      knn_data[i] = knn_data[i].map(label_dict[i])\n",
        "\n",
        "  # knn\n",
        "  imputer = KNNImputer(n_neighbors=1)\n",
        "  knn_data = imputer.fit_transform(knn_data)\n",
        "\n",
        "  # 데이터프레임으로 변환\n",
        "  knn_data = pd.DataFrame(knn_data)\n",
        "  knn_data.columns = col_names\n",
        "\n",
        "  #역변환\n",
        "  for i in label_col:\n",
        "      inv_map = {v: k for k, v in label_dict[i].items()}\n",
        "      knn_data[i] = knn_data[i].map(inv_map)\n",
        "      \n",
        "  # 제거했던 컬럼 추가\n",
        "  knn_data['application_id'] = user_spec['application_id']\n",
        "  knn_data['user_id'] = user_spec['user_id']\n",
        "  knn_data['insert_time'] = user_spec['insert_time']\n",
        "\n",
        "  return knn_data"
      ],
      "metadata": {
        "id": "3tpNngqiMnbC"
      },
      "execution_count": null,
      "outputs": []
    },
    {
      "cell_type": "code",
      "source": [
        "user_spec = preprocessing_user_spec(user_spec) # user_spec 전처리 "
      ],
      "metadata": {
        "id": "h8SbFvHeMn3B"
      },
      "execution_count": null,
      "outputs": []
    },
    {
      "cell_type": "code",
      "source": [
        "user_spec.to_csv('user_spec_filled_final.csv', index=False) # 전처리 완료한 user_spec csv 파일 저장"
      ],
      "metadata": {
        "id": "nOBZj0bXMszN"
      },
      "execution_count": null,
      "outputs": []
    },
    {
      "cell_type": "markdown",
      "source": [
        "# 3. loan_result 전처리 "
      ],
      "metadata": {
        "id": "EurhMd95M4ZE"
      }
    },
    {
      "cell_type": "code",
      "source": [
        "def preprocessing_loan_result(loan_result, user_spec):\n",
        "    '''\n",
        "    loan_rate 결측치 처리: 같은 bank id, product id의 loan_rate 평균으로 보간 \n",
        "    '''\n",
        "    loan_result['bank_product'] = loan_result['bank_id'].astype('str')+' '+loan_result['product_id'].astype('str') # 전처리용 bank_product 변수 추가\n",
        "\n",
        "    ndf = []\n",
        "\n",
        "    for idx, df in tqdm(loan_result.groupby('bank_product')):\n",
        "        df['loan_rate'] = df['loan_rate'].fillna(df['loan_rate'].mean())\n",
        "        ndf.append(df)\n",
        "      \n",
        "    loan_result = pd.concat(ndf,axis=0) # data 결합\n",
        "    loan_result = loan_result.sort_index() # index 정렬\n",
        "    loan_result.drop(columns=['bank_product'], inplace=True) # 전처리용 bank_product 컬럼 제거\n",
        "   \n",
        "    '''\n",
        "    loan_rate 결측치 처리: 같은 application_id의 loan_rate 최소값으로 보간 \n",
        "    '''\n",
        "    ndf = []\n",
        "\n",
        "    for idx, df in tqdm(loan_result.groupby('application_id')):\n",
        "        df['loan_rate'] = df['loan_rate'].fillna(df['loan_rate'].min())\n",
        "        ndf.append(df)\n",
        "\n",
        "    loan_result = pd.concat(ndf,axis=0) # data 결합\n",
        "    loan_result = loan_result.sort_index() # index 정렬\n",
        "\n",
        "    '''\n",
        "    loan_limit 결측치 처리: desired_amount로 결측값 보간\n",
        "    '''\n",
        "    user_desired_amount = user_spec[['application_id','desired_amount']]\n",
        "    loan_result = pd.merge(loan_result, user_desired_amount, how='left',on='application_id')\n",
        "\n",
        "    ndf = []\n",
        "\n",
        "    for idx, df in tqdm(loan_result.groupby('application_id')):\n",
        "        df['loan_limit'] = df['loan_limit'].fillna(df['desired_amount'])\n",
        "        ndf.append(df)\n",
        "                  \n",
        "    loan_result = pd.concat(ndf,axis=0) # data 결합\n",
        "    loan_result = loan_result.sort_index() # index 정렬\n",
        "    loan_result.drop(columns=['desired_amount'], inplace=True) # 전처리용 desired_amount 컬럼 제거\n",
        "    \n",
        "    '''\n",
        "    그 외 loan_rate, loan_limit 결측치 제거\n",
        "    '''\n",
        "    loan_result.dropna(subset=['loan_limit','loan_rate'], inplace = True)\n",
        "    loan_result.reset_index(drop=True, inplace = True) # index 초기화\n",
        "    \n",
        "    return loan_result"
      ],
      "metadata": {
        "id": "-R1cWuE0NMp8"
      },
      "execution_count": null,
      "outputs": []
    },
    {
      "cell_type": "code",
      "source": [
        "loan_result = preprocessing_loan_result(loan_result, user_spec) # loan_result 전처리 "
      ],
      "metadata": {
        "id": "_49yG9RoNNCS"
      },
      "execution_count": null,
      "outputs": []
    },
    {
      "cell_type": "code",
      "source": [
        "loan_result.to_csv('loan_result_fillna.csv', index=False) # 전처리 완료한 loan_result csv 파일 저장"
      ],
      "metadata": {
        "id": "ClS2MSVsJ9AM"
      },
      "execution_count": null,
      "outputs": []
    }
  ]
}