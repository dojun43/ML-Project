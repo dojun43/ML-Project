{
  "nbformat": 4,
  "nbformat_minor": 0,
  "metadata": {
    "colab": {
      "provenance": [],
      "collapsed_sections": []
    },
    "kernelspec": {
      "name": "python3",
      "display_name": "Python 3"
    },
    "language_info": {
      "name": "python"
    }
  },
  "cells": [
    {
      "cell_type": "code",
      "execution_count": null,
      "metadata": {
        "id": "HBHpR3R1VJYV"
      },
      "outputs": [],
      "source": [
        "import os\n",
        "import pandas as pd\n",
        "import numpy as np\n",
        "\n",
        "os.chdir(r'N:\\[03] 단기 작업\\빅콘 테스트\\평가 데이터')\n",
        "submission = pd.read_csv('데이터분석분야_퓨처스부문_평가데이터.csv')\n",
        "test_pred = pd.read_csv('full_data_test_pred.csv')\n",
        "\n",
        "submission.pop('is_applied')\n",
        "test_pred = test_pred.loc[:,['application_id', 'product_id', 'is_applied']]\n",
        "\n",
        "lab_product_id = [  1,   4,   5,   7,   8,  12,  13,  15,  16,  19,  20,  21,  22,\n",
        "         24,  25,  26,  29,  30,  31,  33,  35,  36,  38,  39,  40,  42,\n",
        "         43,  46,  47,  48,  49,  51,  52,  53,  55,  56,  57,  58,  59,\n",
        "         60,  61,  62,  63,  64,  65,  67,  68,  70,  71,  75,  76,  78,\n",
        "         79,  80,  81,  82,  85,  86,  90,  91,  92,  93,  94,  96,  98,\n",
        "        100, 101, 102, 103, 105, 107, 108, 110, 111, 113, 114, 116, 118,\n",
        "        119, 121, 123, 124, 126, 127, 128, 129, 130, 131, 134, 136, 137,\n",
        "        138, 139, 140, 141, 142, 144, 146, 147, 148, 149, 150, 152, 157,\n",
        "        159, 161, 162, 163, 164, 166, 168, 169, 170, 171, 174, 175, 176,\n",
        "        178, 181, 183, 184, 185, 186, 187, 188, 189, 190, 191, 192, 193,\n",
        "        194, 195, 196, 197, 200, 201, 202, 204, 205, 206, 211, 215, 216,\n",
        "        217, 220, 221, 222, 223, 224, 225, 226, 227, 229, 231, 232, 233,\n",
        "        234, 235, 236, 238, 239, 240, 241, 243, 244, 245, 246, 247, 248,\n",
        "        249, 250, 251, 252, 254, 257, 258, 259, 261, 262, 263, 264, 265,\n",
        "        266, 267, 268, 270]\n",
        "\n",
        "# drop_duplicate_test_pred = test_pred.drop_duplicates(['application_id','product_id'], keep = 'first')\n",
        "\n",
        "len(test_pred.product_id.unique())\n",
        "len(lab_product_id)\n",
        "test_pred.product_id.unique() >= 185\n",
        "\n",
        "lab_product_id = {idx : val for idx, val in enumerate(lab_product_id)}\n",
        "\n",
        "# 라벨 인코딩 풀어주기.\n",
        "test_pred['product_id'] = test_pred.product_id.map(lab_product_id)\n",
        "print(test_pred.isna().sum())\n",
        "\n",
        "# 중복 값 제거. 첫값으로 대체\n",
        "test_pred = test_pred.drop_duplicates(['application_id','product_id'], keep = 'first')\n",
        "\n",
        "chk_df = pd.merge(left=submission, right=test_pred, how='left', on=['application_id','product_id'], sort=False)\n",
        "\n",
        "print(chk_df.isna().sum())\n",
        "print(chk_df.is_applied.value_counts())\n",
        "\n",
        "chk_df.to_csv('submission_pred_f1_score_0.3168.csv',index = False)\n",
        "\n",
        "print(chk_df.shape)\n",
        "print(submission.shape)"
      ]
    }
  ]
}